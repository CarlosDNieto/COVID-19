{
 "cells": [
  {
   "cell_type": "code",
   "execution_count": 1,
   "metadata": {},
   "outputs": [
    {
     "name": "stderr",
     "output_type": "stream",
     "text": [
      "C:\\ProgramData\\Anaconda3\\lib\\site-packages\\statsmodels\\tools\\_testing.py:19: FutureWarning: pandas.util.testing is deprecated. Use the functions in the public API at pandas.testing instead.\n",
      "  import pandas.util.testing as tm\n"
     ]
    }
   ],
   "source": [
    "import pandas as pd\n",
    "import datetime as dt\n",
    "import numpy as np\n",
    "import seaborn as sns\n",
    "import matplotlib.pyplot as plt\n",
    "import tabula\n",
    "import PyPDF2"
   ]
  },
  {
   "cell_type": "markdown",
   "metadata": {},
   "source": [
    "# COVID-19 in Mexico\n",
    "\n",
    "**The objective of this notebook is to make an exploratory data analysis of the confirmed cases of coronavirus in Mexico**\n",
    "\n",
    "The data sources are the tables of positive confirmed cases in the [Daily technical releases](https://www.gob.mx/salud/documentos/coronavirus-covid-19-comunicado-tecnico-diario-238449) of the **General Division of Emidemiology** of the **Secretaría de Salud** of Mexico."
   ]
  },
  {
   "cell_type": "code",
   "execution_count": 2,
   "metadata": {},
   "outputs": [],
   "source": [
    "# to update please edit the date as the format below:\n",
    "# ---- aaaa.mm.dd\n",
    "date = '2020.03.22'\n",
    "\n",
    "# local path of the file in my computer.\n",
    "path = 'mexico_data_sources\\\\Tablas de Casos Confirmados\\\\Tabla_casos_positivos_COVID-19_resultado_InDRE_'+date+'.pdf'"
   ]
  },
  {
   "cell_type": "markdown",
   "metadata": {},
   "source": [
    "# Read data"
   ]
  },
  {
   "cell_type": "code",
   "execution_count": 3,
   "metadata": {},
   "outputs": [],
   "source": [
    "def read_confirmed_pdf(path):\n",
    "    \"\"\"Read the tables of the positive confirmed cases that the General Division of Emidemiology emits everyday in a pdf file.\n",
    "    Lee las tablas de casos confirmados positivos que emite la Dirección General de Epidemiología de manera diaria.\n",
    "    \n",
    "    Args:\n",
    "        path(str not null, path to pdf file)\n",
    "    \n",
    "    Returns:\n",
    "        DataFrame.\n",
    "    \"\"\"\n",
    "    columns = ['Case Number', 'State', 'Sex', 'Age', 'Date Symptoms', 'Identification', 'Origin', 'Date of Arrive']\n",
    "    \n",
    "    # obtain the number of pages of the pdf file\n",
    "    read_pdf = PyPDF2.PdfFileReader(path)\n",
    "    number_of_pages = read_pdf.getNumPages()\n",
    "    \n",
    "    # We read all the pages of the document and store them\n",
    "    # in a list full of Nones.\n",
    "    dfs = [None]*number_of_pages\n",
    "    for page in range(number_of_pages):\n",
    "\n",
    "        if page==0:\n",
    "            df = tabula.read_pdf(path, pages=str(page+1), area=[110,5,800,900], stream=True, pandas_options={'header':None})\n",
    "            dfs[page] = df[0]\n",
    "\n",
    "        elif page<(number_of_pages-1):\n",
    "            df = tabula.read_pdf(path, pages=str(page+1), area=[30,5,800,900], stream=True, pandas_options={'header':None})\n",
    "            dfs[page] = df[0]\n",
    "\n",
    "        else:\n",
    "            df = tabula.read_pdf(path, pages=str(page+1), area=[35,5,580,900], stream=True, pandas_options={'header':None})\n",
    "            dfs[page] = df[0]\n",
    "    \n",
    "    # join all the DataFrame's in just one.\n",
    "    out_df = pd.concat(dfs,ignore_index=True,sort=True)\n",
    "\n",
    "    # rename the columns of the output DataFrame.\n",
    "    d = dict(zip(out_df.columns.to_list(),columns))\n",
    "    out_df = out_df.rename(d,axis=1)\n",
    "    \n",
    "    return out_df"
   ]
  },
  {
   "cell_type": "code",
   "execution_count": 4,
   "metadata": {},
   "outputs": [],
   "source": [
    "df = read_confirmed_pdf(path)"
   ]
  },
  {
   "cell_type": "markdown",
   "metadata": {},
   "source": [
    "We have to drop na's and fix two columns: **``State``** and **``Case Number``**"
   ]
  },
  {
   "cell_type": "code",
   "execution_count": 5,
   "metadata": {},
   "outputs": [
    {
     "data": {
      "text/html": [
       "<div>\n",
       "<style scoped>\n",
       "    .dataframe tbody tr th:only-of-type {\n",
       "        vertical-align: middle;\n",
       "    }\n",
       "\n",
       "    .dataframe tbody tr th {\n",
       "        vertical-align: top;\n",
       "    }\n",
       "\n",
       "    .dataframe thead th {\n",
       "        text-align: right;\n",
       "    }\n",
       "</style>\n",
       "<table border=\"1\" class=\"dataframe\">\n",
       "  <thead>\n",
       "    <tr style=\"text-align: right;\">\n",
       "      <th></th>\n",
       "      <th>Case Number</th>\n",
       "      <th>State</th>\n",
       "      <th>Sex</th>\n",
       "      <th>Age</th>\n",
       "      <th>Date Symptoms</th>\n",
       "      <th>Identification</th>\n",
       "      <th>Origin</th>\n",
       "      <th>Date of Arrive</th>\n",
       "    </tr>\n",
       "  </thead>\n",
       "  <tbody>\n",
       "    <tr>\n",
       "      <th>0</th>\n",
       "      <td>1</td>\n",
       "      <td>CIUDAD DE MÉXICO</td>\n",
       "      <td>M</td>\n",
       "      <td>35.0</td>\n",
       "      <td>22/02/2020</td>\n",
       "      <td>confirmado</td>\n",
       "      <td>Italia</td>\n",
       "      <td>22/02/2020</td>\n",
       "    </tr>\n",
       "    <tr>\n",
       "      <th>1</th>\n",
       "      <td>2</td>\n",
       "      <td>SINALOA</td>\n",
       "      <td>M</td>\n",
       "      <td>41.0</td>\n",
       "      <td>22/02/2020</td>\n",
       "      <td>confirmado</td>\n",
       "      <td>Italia</td>\n",
       "      <td>21/02/2020</td>\n",
       "    </tr>\n",
       "    <tr>\n",
       "      <th>2</th>\n",
       "      <td>3</td>\n",
       "      <td>CIUDAD DE MÉXICO</td>\n",
       "      <td>M</td>\n",
       "      <td>59.0</td>\n",
       "      <td>23/02/2020</td>\n",
       "      <td>confirmado</td>\n",
       "      <td>Italia</td>\n",
       "      <td>22/02/2020</td>\n",
       "    </tr>\n",
       "    <tr>\n",
       "      <th>3</th>\n",
       "      <td>4</td>\n",
       "      <td>COAHUILA</td>\n",
       "      <td>F</td>\n",
       "      <td>20.0</td>\n",
       "      <td>27/02/2020</td>\n",
       "      <td>confirmado</td>\n",
       "      <td>Italia</td>\n",
       "      <td>25/02/2020</td>\n",
       "    </tr>\n",
       "    <tr>\n",
       "      <th>4</th>\n",
       "      <td>5</td>\n",
       "      <td>CHIAPAS</td>\n",
       "      <td>F</td>\n",
       "      <td>18.0</td>\n",
       "      <td>25/02/2020</td>\n",
       "      <td>confirmado</td>\n",
       "      <td>Italia</td>\n",
       "      <td>25/02/2020</td>\n",
       "    </tr>\n",
       "    <tr>\n",
       "      <th>...</th>\n",
       "      <td>...</td>\n",
       "      <td>...</td>\n",
       "      <td>...</td>\n",
       "      <td>...</td>\n",
       "      <td>...</td>\n",
       "      <td>...</td>\n",
       "      <td>...</td>\n",
       "      <td>...</td>\n",
       "    </tr>\n",
       "    <tr>\n",
       "      <th>311</th>\n",
       "      <td>312</td>\n",
       "      <td>COAHUILA</td>\n",
       "      <td>F</td>\n",
       "      <td>42.0</td>\n",
       "      <td>20/03/2020</td>\n",
       "      <td>confirmado</td>\n",
       "      <td>España</td>\n",
       "      <td>14/03/2020</td>\n",
       "    </tr>\n",
       "    <tr>\n",
       "      <th>312</th>\n",
       "      <td>313</td>\n",
       "      <td>SONORA</td>\n",
       "      <td>M</td>\n",
       "      <td>22.0</td>\n",
       "      <td>11/03/2020</td>\n",
       "      <td>confirmado</td>\n",
       "      <td>España</td>\n",
       "      <td>17/03/2020</td>\n",
       "    </tr>\n",
       "    <tr>\n",
       "      <th>313</th>\n",
       "      <td>314</td>\n",
       "      <td>MÉXICO</td>\n",
       "      <td>M</td>\n",
       "      <td>24.0</td>\n",
       "      <td>20/03/2020</td>\n",
       "      <td>confirmado</td>\n",
       "      <td>Italia</td>\n",
       "      <td>14/03/2020</td>\n",
       "    </tr>\n",
       "    <tr>\n",
       "      <th>314</th>\n",
       "      <td>315</td>\n",
       "      <td>MÉXICO</td>\n",
       "      <td>F</td>\n",
       "      <td>29.0</td>\n",
       "      <td>20/03/2020</td>\n",
       "      <td>confirmado</td>\n",
       "      <td>España</td>\n",
       "      <td>15/03/2020</td>\n",
       "    </tr>\n",
       "    <tr>\n",
       "      <th>315</th>\n",
       "      <td>316</td>\n",
       "      <td>MÉXICO</td>\n",
       "      <td>F</td>\n",
       "      <td>29.0</td>\n",
       "      <td>12/03/2020</td>\n",
       "      <td>confirmado</td>\n",
       "      <td>Estados Unidos</td>\n",
       "      <td>27/02/2020</td>\n",
       "    </tr>\n",
       "  </tbody>\n",
       "</table>\n",
       "<p>316 rows × 8 columns</p>\n",
       "</div>"
      ],
      "text/plain": [
       "    Case Number             State Sex   Age Date Symptoms Identification  \\\n",
       "0             1  CIUDAD DE MÉXICO   M  35.0    22/02/2020     confirmado   \n",
       "1             2           SINALOA   M  41.0    22/02/2020     confirmado   \n",
       "2             3  CIUDAD DE MÉXICO   M  59.0    23/02/2020     confirmado   \n",
       "3             4          COAHUILA   F  20.0    27/02/2020     confirmado   \n",
       "4             5           CHIAPAS   F  18.0    25/02/2020     confirmado   \n",
       "..          ...               ...  ..   ...           ...            ...   \n",
       "311         312          COAHUILA   F  42.0    20/03/2020     confirmado   \n",
       "312         313            SONORA   M  22.0    11/03/2020     confirmado   \n",
       "313         314            MÉXICO   M  24.0    20/03/2020     confirmado   \n",
       "314         315            MÉXICO   F  29.0    20/03/2020     confirmado   \n",
       "315         316            MÉXICO   F  29.0    12/03/2020     confirmado   \n",
       "\n",
       "             Origin Date of Arrive  \n",
       "0            Italia     22/02/2020  \n",
       "1            Italia     21/02/2020  \n",
       "2            Italia     22/02/2020  \n",
       "3            Italia     25/02/2020  \n",
       "4            Italia     25/02/2020  \n",
       "..              ...            ...  \n",
       "311          España     14/03/2020  \n",
       "312          España     17/03/2020  \n",
       "313          Italia     14/03/2020  \n",
       "314          España     15/03/2020  \n",
       "315  Estados Unidos     27/02/2020  \n",
       "\n",
       "[316 rows x 8 columns]"
      ]
     },
     "execution_count": 5,
     "metadata": {},
     "output_type": "execute_result"
    }
   ],
   "source": [
    "new_case_number = []\n",
    "new_state = []\n",
    "for i in range(len(df['State'])):\n",
    "    if str(df['State'][i])=='nan':\n",
    "        try:\n",
    "            new_state.append(df['Case Number'][i].split(' ',1)[1])\n",
    "            new_case_number.append(df['Case Number'][i].split(' ',1)[0])\n",
    "        except:\n",
    "            new_state.append(df['State'][i])\n",
    "            new_case_number.append(df['Case Number'][i])\n",
    "    else:\n",
    "        new_state.append(df['State'][i])\n",
    "        new_case_number.append(df['Case Number'][i])\n",
    "\n",
    "        \n",
    "df['State'] = new_state\n",
    "df['Case Number'] = new_case_number\n",
    "df = df.dropna(axis=0,thresh=5)\n",
    "df"
   ]
  },
  {
   "cell_type": "markdown",
   "metadata": {},
   "source": [
    "## Add new column: ``Class``\n",
    "\n",
    "* This column contains the age range **(classes in decades)** that corresponds to the person.\n",
    "\n",
    "\n",
    "* This will help us to make a ``sns.countplot()`` where we will see the number of confirmed cases per age class in Mexico.\n",
    "\n",
    "\n",
    "* The values that this column takes are:\n",
    "\n",
    "    * ``['0-9', '10-19', '20-29', '30-39','40-49','50-59','60-69','70-79','80-89','90-99']``"
   ]
  },
  {
   "cell_type": "code",
   "execution_count": 6,
   "metadata": {},
   "outputs": [],
   "source": [
    "classes = ['0-9', '10-19', '20-29', '30-39','40-49','50-59','60-69','70-79','80-89','90-99']\n",
    "\n",
    "new_col = []\n",
    "\n",
    "for age in df['Age']:# for each age\n",
    "    for c in classes: # for each class\n",
    "        lst = c.split('-')\n",
    "        lst = list(map(int,lst))\n",
    "        \n",
    "        # append the corresponding class\n",
    "        if (age>=lst[0]) & (age<=lst[1]):\n",
    "            new_col.append(c) \n",
    "\n",
    "# add the new 'Class' column\n",
    "df['Class'] = new_col"
   ]
  },
  {
   "cell_type": "markdown",
   "metadata": {},
   "source": [
    "# Exploratory Data Analysis"
   ]
  },
  {
   "cell_type": "code",
   "execution_count": 7,
   "metadata": {},
   "outputs": [
    {
     "data": {
      "text/html": [
       "<div>\n",
       "<style scoped>\n",
       "    .dataframe tbody tr th:only-of-type {\n",
       "        vertical-align: middle;\n",
       "    }\n",
       "\n",
       "    .dataframe tbody tr th {\n",
       "        vertical-align: top;\n",
       "    }\n",
       "\n",
       "    .dataframe thead th {\n",
       "        text-align: right;\n",
       "    }\n",
       "</style>\n",
       "<table border=\"1\" class=\"dataframe\">\n",
       "  <thead>\n",
       "    <tr style=\"text-align: right;\">\n",
       "      <th></th>\n",
       "      <th>Case Number</th>\n",
       "      <th>State</th>\n",
       "      <th>Sex</th>\n",
       "      <th>Age</th>\n",
       "      <th>Date Symptoms</th>\n",
       "      <th>Identification</th>\n",
       "      <th>Origin</th>\n",
       "      <th>Date of Arrive</th>\n",
       "      <th>Class</th>\n",
       "    </tr>\n",
       "  </thead>\n",
       "  <tbody>\n",
       "    <tr>\n",
       "      <th>0</th>\n",
       "      <td>1</td>\n",
       "      <td>CIUDAD DE MÉXICO</td>\n",
       "      <td>M</td>\n",
       "      <td>35.0</td>\n",
       "      <td>22/02/2020</td>\n",
       "      <td>confirmado</td>\n",
       "      <td>Italia</td>\n",
       "      <td>22/02/2020</td>\n",
       "      <td>30-39</td>\n",
       "    </tr>\n",
       "    <tr>\n",
       "      <th>1</th>\n",
       "      <td>2</td>\n",
       "      <td>SINALOA</td>\n",
       "      <td>M</td>\n",
       "      <td>41.0</td>\n",
       "      <td>22/02/2020</td>\n",
       "      <td>confirmado</td>\n",
       "      <td>Italia</td>\n",
       "      <td>21/02/2020</td>\n",
       "      <td>40-49</td>\n",
       "    </tr>\n",
       "    <tr>\n",
       "      <th>2</th>\n",
       "      <td>3</td>\n",
       "      <td>CIUDAD DE MÉXICO</td>\n",
       "      <td>M</td>\n",
       "      <td>59.0</td>\n",
       "      <td>23/02/2020</td>\n",
       "      <td>confirmado</td>\n",
       "      <td>Italia</td>\n",
       "      <td>22/02/2020</td>\n",
       "      <td>50-59</td>\n",
       "    </tr>\n",
       "    <tr>\n",
       "      <th>3</th>\n",
       "      <td>4</td>\n",
       "      <td>COAHUILA</td>\n",
       "      <td>F</td>\n",
       "      <td>20.0</td>\n",
       "      <td>27/02/2020</td>\n",
       "      <td>confirmado</td>\n",
       "      <td>Italia</td>\n",
       "      <td>25/02/2020</td>\n",
       "      <td>20-29</td>\n",
       "    </tr>\n",
       "    <tr>\n",
       "      <th>4</th>\n",
       "      <td>5</td>\n",
       "      <td>CHIAPAS</td>\n",
       "      <td>F</td>\n",
       "      <td>18.0</td>\n",
       "      <td>25/02/2020</td>\n",
       "      <td>confirmado</td>\n",
       "      <td>Italia</td>\n",
       "      <td>25/02/2020</td>\n",
       "      <td>10-19</td>\n",
       "    </tr>\n",
       "  </tbody>\n",
       "</table>\n",
       "</div>"
      ],
      "text/plain": [
       "  Case Number             State Sex   Age Date Symptoms Identification  \\\n",
       "0           1  CIUDAD DE MÉXICO   M  35.0    22/02/2020     confirmado   \n",
       "1           2           SINALOA   M  41.0    22/02/2020     confirmado   \n",
       "2           3  CIUDAD DE MÉXICO   M  59.0    23/02/2020     confirmado   \n",
       "3           4          COAHUILA   F  20.0    27/02/2020     confirmado   \n",
       "4           5           CHIAPAS   F  18.0    25/02/2020     confirmado   \n",
       "\n",
       "   Origin Date of Arrive  Class  \n",
       "0  Italia     22/02/2020  30-39  \n",
       "1  Italia     21/02/2020  40-49  \n",
       "2  Italia     22/02/2020  50-59  \n",
       "3  Italia     25/02/2020  20-29  \n",
       "4  Italia     25/02/2020  10-19  "
      ]
     },
     "execution_count": 7,
     "metadata": {},
     "output_type": "execute_result"
    }
   ],
   "source": [
    "df.head()"
   ]
  },
  {
   "cell_type": "code",
   "execution_count": 8,
   "metadata": {
    "scrolled": false
   },
   "outputs": [
    {
     "data": {
      "text/html": [
       "<div>\n",
       "<style scoped>\n",
       "    .dataframe tbody tr th:only-of-type {\n",
       "        vertical-align: middle;\n",
       "    }\n",
       "\n",
       "    .dataframe tbody tr th {\n",
       "        vertical-align: top;\n",
       "    }\n",
       "\n",
       "    .dataframe thead th {\n",
       "        text-align: right;\n",
       "    }\n",
       "</style>\n",
       "<table border=\"1\" class=\"dataframe\">\n",
       "  <thead>\n",
       "    <tr style=\"text-align: right;\">\n",
       "      <th></th>\n",
       "      <th>Age</th>\n",
       "    </tr>\n",
       "  </thead>\n",
       "  <tbody>\n",
       "    <tr>\n",
       "      <th>count</th>\n",
       "      <td>316.000000</td>\n",
       "    </tr>\n",
       "    <tr>\n",
       "      <th>mean</th>\n",
       "      <td>41.411392</td>\n",
       "    </tr>\n",
       "    <tr>\n",
       "      <th>std</th>\n",
       "      <td>15.693748</td>\n",
       "    </tr>\n",
       "    <tr>\n",
       "      <th>min</th>\n",
       "      <td>0.000000</td>\n",
       "    </tr>\n",
       "    <tr>\n",
       "      <th>25%</th>\n",
       "      <td>29.750000</td>\n",
       "    </tr>\n",
       "    <tr>\n",
       "      <th>50%</th>\n",
       "      <td>40.000000</td>\n",
       "    </tr>\n",
       "    <tr>\n",
       "      <th>75%</th>\n",
       "      <td>53.000000</td>\n",
       "    </tr>\n",
       "    <tr>\n",
       "      <th>max</th>\n",
       "      <td>80.000000</td>\n",
       "    </tr>\n",
       "  </tbody>\n",
       "</table>\n",
       "</div>"
      ],
      "text/plain": [
       "              Age\n",
       "count  316.000000\n",
       "mean    41.411392\n",
       "std     15.693748\n",
       "min      0.000000\n",
       "25%     29.750000\n",
       "50%     40.000000\n",
       "75%     53.000000\n",
       "max     80.000000"
      ]
     },
     "execution_count": 8,
     "metadata": {},
     "output_type": "execute_result"
    }
   ],
   "source": [
    "df.describe()"
   ]
  },
  {
   "cell_type": "code",
   "execution_count": 9,
   "metadata": {
    "scrolled": true
   },
   "outputs": [
    {
     "data": {
      "text/plain": [
       "27.0    13\n",
       "42.0    12\n",
       "31.0    12\n",
       "29.0    11\n",
       "35.0    10\n",
       "Name: Age, dtype: int64"
      ]
     },
     "execution_count": 9,
     "metadata": {},
     "output_type": "execute_result"
    }
   ],
   "source": [
    "# Top 5 ages with more confirmed cases\n",
    "\n",
    "df['Age'].value_counts().head(5)"
   ]
  },
  {
   "cell_type": "code",
   "execution_count": 10,
   "metadata": {},
   "outputs": [
    {
     "data": {
      "image/png": "[encoded data removed]",
      "text/plain": [
       "<Figure size 720x432 with 1 Axes>"
      ]
     },
     "metadata": {
      "needs_background": "light"
     },
     "output_type": "display_data"
    }
   ],
   "source": [
    "# histogram of age\n",
    "\n",
    "plt.subplots(figsize=(10,6))\n",
    "sns.distplot(df['Age'],bins=10)\n",
    "plt.show()"
   ]
  },
  {
   "cell_type": "code",
   "execution_count": 11,
   "metadata": {},
   "outputs": [
    {
     "name": "stderr",
     "output_type": "stream",
     "text": [
      "posx and posy should be finite values\n",
      "posx and posy should be finite values\n"
     ]
    },
    {
     "data": {
      "image/png": "[encoded data removed]",
      "text/plain": [
       "<Figure size 720x432 with 1 Axes>"
      ]
     },
     "metadata": {
      "needs_background": "light"
     },
     "output_type": "display_data"
    }
   ],
   "source": [
    "# Confirmed cases distribution per age range\n",
    "\n",
    "plt.subplots(figsize=(10,6))\n",
    "plot = sns.countplot(data=df,x='Class', order=classes,palette=sns.cubehelix_palette(8, start=.5, rot=-.75))\n",
    "\n",
    "# add data labels:\n",
    "for i, bar in enumerate(plot.axes.patches):\n",
    "    h = bar.get_height()\n",
    "    plot.axes.text(\n",
    "        i, # bar index (x coordinate of text)\n",
    "        h+1, # y coordinate of text\n",
    "        '{}'.format(h),  # y label\n",
    "        ha='center', \n",
    "        va='center', \n",
    "        fontweight='bold',\n",
    "        color='black',\n",
    "        size=14)\n",
    "plt.xlabel('Age',size=14,fontweight='bold')\n",
    "plt.ylabel(None)\n",
    "plt.title('Confirmed cases per age in Mexico', size=18,fontweight='bold',loc='left')\n",
    "plt.show()"
   ]
  },
  {
   "cell_type": "code",
   "execution_count": 12,
   "metadata": {
    "scrolled": true
   },
   "outputs": [
    {
     "name": "stderr",
     "output_type": "stream",
     "text": [
      "posx and posy should be finite values\n",
      "posx and posy should be finite values\n",
      "posx and posy should be finite values\n",
      "posx and posy should be finite values\n",
      "posx and posy should be finite values\n",
      "posx and posy should be finite values\n"
     ]
    },
    {
     "data": {
      "image/png": "[encoded data removed]",
      "text/plain": [
       "<Figure size 720x432 with 1 Axes>"
      ]
     },
     "metadata": {
      "needs_background": "light"
     },
     "output_type": "display_data"
    }
   ],
   "source": [
    "# Confirmed cases per sex and age in Mexico\n",
    "\n",
    "plt.subplots(figsize=(10,6))\n",
    "plot = sns.countplot(data=df,x='Class',hue='Sex',palette='RdBu_r', order=classes)\n",
    "\n",
    "#add data labels:\n",
    "n = int(len(list(plot.axes.patches))/2) # count of bars/2\n",
    "for i, bar in enumerate(plot.axes.patches):\n",
    "    h = bar.get_height()\n",
    "    \n",
    "    if i in range(n):\n",
    "        plot.axes.text(\n",
    "            i-0.3, # bar index (x coordinate of text)\n",
    "            h+1, # y coordinate of text\n",
    "            '{}'.format(h),  # y label\n",
    "            ha='center', \n",
    "            va='center', \n",
    "            fontweight='bold',\n",
    "            color='blue',\n",
    "            alpha=0.5,\n",
    "            size=14)\n",
    "    else:\n",
    "        plot.axes.text(\n",
    "            i - n + 0.3, # bar index (x coordinate of text)\n",
    "            h+1, # y coordinate of text\n",
    "            '{}'.format(h),  # y label\n",
    "            ha='center', \n",
    "            va='center', \n",
    "            fontweight='bold',\n",
    "            color='red',\n",
    "            alpha=0.5,\n",
    "            size=14)\n",
    "        \n",
    "    \n",
    "plt.xlabel('Age',size=14,fontweight='bold')\n",
    "plt.ylabel(None)\n",
    "plt.title('Confirmed cases per sex and age in Mexico', size=18,fontweight='bold',loc='left')\n",
    "plt.legend(labels=('Men','Women'),loc='right')\n",
    "plt.show()"
   ]
  },
  {
   "cell_type": "code",
   "execution_count": 14,
   "metadata": {
    "scrolled": true
   },
   "outputs": [
    {
     "data": {
      "image/png": "[encoded data removed]",
      "text/plain": [
       "<Figure size 864x432 with 1 Axes>"
      ]
     },
     "metadata": {
      "needs_background": "light"
     },
     "output_type": "display_data"
    },
    {
     "name": "stdout",
     "output_type": "stream",
     "text": [
      "27.0    13\n",
      "42.0    12\n",
      "31.0    12\n",
      "29.0    11\n",
      "35.0    10\n",
      "        ..\n",
      "79.0     1\n",
      "75.0     1\n",
      "77.0     1\n",
      "11.0     1\n",
      "76.0     1\n",
      "Name: Age, Length: 62, dtype: int64\n"
     ]
    }
   ],
   "source": [
    "# Confirmed cases per individual age\n",
    "\n",
    "plt.subplots(figsize=(12,6))\n",
    "sns.countplot(data=df,\n",
    "             x='Age')\n",
    "plt.tight_layout()\n",
    "plt.ylabel(None)\n",
    "plt.title('Confirmed cases per individual age in Mexico.', size=18,fontweight='bold',loc='left')\n",
    "plt.show()\n",
    "\n",
    "# We can see that the age with more confirmed cases is 27 y/o.\n",
    "print(df['Age'].value_counts())"
   ]
  },
  {
   "cell_type": "code",
   "execution_count": 15,
   "metadata": {
    "scrolled": false
   },
   "outputs": [
    {
     "data": {
      "text/html": [
       "<div>\n",
       "<style scoped>\n",
       "    .dataframe tbody tr th:only-of-type {\n",
       "        vertical-align: middle;\n",
       "    }\n",
       "\n",
       "    .dataframe tbody tr th {\n",
       "        vertical-align: top;\n",
       "    }\n",
       "\n",
       "    .dataframe thead th {\n",
       "        text-align: right;\n",
       "    }\n",
       "</style>\n",
       "<table border=\"1\" class=\"dataframe\">\n",
       "  <thead>\n",
       "    <tr style=\"text-align: right;\">\n",
       "      <th></th>\n",
       "      <th>Case Number</th>\n",
       "      <th>State</th>\n",
       "      <th>Sex</th>\n",
       "      <th>Age</th>\n",
       "      <th>Date Symptoms</th>\n",
       "      <th>Identification</th>\n",
       "      <th>Origin</th>\n",
       "      <th>Date of Arrive</th>\n",
       "      <th>Class</th>\n",
       "    </tr>\n",
       "  </thead>\n",
       "  <tbody>\n",
       "    <tr>\n",
       "      <th>73</th>\n",
       "      <td>74</td>\n",
       "      <td>NUEVO LEÓN</td>\n",
       "      <td>F</td>\n",
       "      <td>80.0</td>\n",
       "      <td>09/03/2020</td>\n",
       "      <td>confirmado</td>\n",
       "      <td>España</td>\n",
       "      <td>12/03/2020</td>\n",
       "      <td>80-89</td>\n",
       "    </tr>\n",
       "    <tr>\n",
       "      <th>196</th>\n",
       "      <td>197</td>\n",
       "      <td>JALISCO</td>\n",
       "      <td>M</td>\n",
       "      <td>80.0</td>\n",
       "      <td>14/03/2020</td>\n",
       "      <td>confirmado</td>\n",
       "      <td>Estados Unidos</td>\n",
       "      <td>14/03/2020</td>\n",
       "      <td>80-89</td>\n",
       "    </tr>\n",
       "    <tr>\n",
       "      <th>207</th>\n",
       "      <td>208</td>\n",
       "      <td>CIUDAD DE MÉXICO</td>\n",
       "      <td>M</td>\n",
       "      <td>0.0</td>\n",
       "      <td>16/03/2020</td>\n",
       "      <td>confirmado</td>\n",
       "      <td>Contacto</td>\n",
       "      <td>NA</td>\n",
       "      <td>0-9</td>\n",
       "    </tr>\n",
       "    <tr>\n",
       "      <th>249</th>\n",
       "      <td>250</td>\n",
       "      <td>JALISCO</td>\n",
       "      <td>M</td>\n",
       "      <td>0.0</td>\n",
       "      <td>09/03/2020</td>\n",
       "      <td>confirmado</td>\n",
       "      <td>España</td>\n",
       "      <td>12/03/2020</td>\n",
       "      <td>0-9</td>\n",
       "    </tr>\n",
       "    <tr>\n",
       "      <th>283</th>\n",
       "      <td>284</td>\n",
       "      <td>YUCATÁN</td>\n",
       "      <td>M</td>\n",
       "      <td>0.0</td>\n",
       "      <td>17/03/2020</td>\n",
       "      <td>confirmado</td>\n",
       "      <td>Contacto</td>\n",
       "      <td>NA</td>\n",
       "      <td>0-9</td>\n",
       "    </tr>\n",
       "  </tbody>\n",
       "</table>\n",
       "</div>"
      ],
      "text/plain": [
       "    Case Number             State Sex   Age Date Symptoms Identification  \\\n",
       "73           74        NUEVO LEÓN   F  80.0    09/03/2020     confirmado   \n",
       "196         197           JALISCO   M  80.0    14/03/2020     confirmado   \n",
       "207         208  CIUDAD DE MÉXICO   M   0.0    16/03/2020     confirmado   \n",
       "249         250           JALISCO   M   0.0    09/03/2020     confirmado   \n",
       "283         284           YUCATÁN   M   0.0    17/03/2020     confirmado   \n",
       "\n",
       "             Origin Date of Arrive  Class  \n",
       "73           España     12/03/2020  80-89  \n",
       "196  Estados Unidos     14/03/2020  80-89  \n",
       "207        Contacto             NA    0-9  \n",
       "249          España     12/03/2020    0-9  \n",
       "283        Contacto             NA    0-9  "
      ]
     },
     "execution_count": 15,
     "metadata": {},
     "output_type": "execute_result"
    }
   ],
   "source": [
    "# Basic information of the people with the highest and lowest age that have been confirmed.\n",
    "\n",
    "df[(df['Age']==df['Age'].max()) | (df['Age'] == df['Age'].min())]"
   ]
  },
  {
   "cell_type": "code",
   "execution_count": 16,
   "metadata": {},
   "outputs": [
    {
     "data": {
      "image/png": "[encoded data removed]",
      "text/plain": [
       "<Figure size 864x432 with 1 Axes>"
      ]
     },
     "metadata": {
      "needs_background": "light"
     },
     "output_type": "display_data"
    }
   ],
   "source": [
    "plt.subplots(figsize=(12,6))\n",
    "sns.countplot(data=df,x='State',\n",
    "              orient=\"h\",\n",
    "              order=df['State'].value_counts().index,\n",
    "              palette='OrRd_r')\n",
    "plt.xticks(rotation=90)\n",
    "plt.tight_layout()\n",
    "plt.ylabel(None)\n",
    "plt.xlabel('State',size=14,fontweight='bold')\n",
    "plt.title('Confirmed cases per state in Mexico.', size=18,fontweight='bold',loc='left')\n",
    "plt.subt\n",
    "plt.show()"
   ]
  }
 ],
 "metadata": {
  "kernelspec": {
   "display_name": "Python 3",
   "language": "python",
   "name": "python3"
  },
  "language_info": {
   "codemirror_mode": {
    "name": "ipython",
    "version": 3
   },
   "file_extension": ".py",
   "mimetype": "text/x-python",
   "name": "python",
   "nbconvert_exporter": "python",
   "pygments_lexer": "ipython3",
   "version": "3.7.4"
  },
  "latex_envs": {
   "LaTeX_envs_menu_present": true,
   "autoclose": false,
   "autocomplete": true,
   "bibliofile": "biblio.bib",
   "cite_by": "apalike",
   "current_citInitial": 1,
   "eqLabelWithNumbers": true,
   "eqNumInitial": 1,
   "hotkeys": {
    "equation": "Ctrl-E",
    "itemize": "Ctrl-I"
   },
   "labels_anchors": false,
   "latex_user_defs": false,
   "report_style_numbering": false,
   "user_envs_cfg": false
  }
 },
 "nbformat": 4,
 "nbformat_minor": 2
}
